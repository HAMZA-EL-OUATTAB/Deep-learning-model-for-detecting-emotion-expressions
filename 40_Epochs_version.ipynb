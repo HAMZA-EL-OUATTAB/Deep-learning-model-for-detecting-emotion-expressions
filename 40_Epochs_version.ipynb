{
  "cells": [
    {
      "cell_type": "markdown",
      "source": [
        "# **1.Connection avec Google Drive**\n",
        "\n",
        "\n",
        "\n",
        "\n",
        "\n"
      ],
      "metadata": {
        "id": "c68-VjiZsEaH"
      },
      "id": "c68-VjiZsEaH"
    },
    {
      "cell_type": "code",
      "execution_count": null,
      "id": "MTePYBKc9y7x",
      "metadata": {
        "colab": {
          "base_uri": "https://localhost:8080/"
        },
        "id": "MTePYBKc9y7x",
        "outputId": "a16c9b65-89ab-4838-c4e0-0bd3c6868082"
      },
      "outputs": [
        {
          "output_type": "stream",
          "name": "stdout",
          "text": [
            "Drive already mounted at /content/drive; to attempt to forcibly remount, call drive.mount(\"/content/drive\", force_remount=True).\n"
          ]
        }
      ],
      "source": [
        "from google.colab import drive\n",
        "drive.mount('/content/drive')"
      ]
    },
    {
      "cell_type": "markdown",
      "source": [
        "# **2.Installer les bibliothèques recommandées**\n"
      ],
      "metadata": {
        "id": "nF77eznts9bs"
      },
      "id": "nF77eznts9bs"
    },
    {
      "cell_type": "code",
      "execution_count": null,
      "id": "SXv_Q2umrMDO",
      "metadata": {
        "id": "SXv_Q2umrMDO"
      },
      "outputs": [],
      "source": [
        "# Copier le fichier requirements.txt dans le système de fichiers du Colab en spécifiant un chemin de destination\n",
        "!cp \"/content/drive/MyDrive/Colab_Notebooks/requirements.txt\" .\n"
      ]
    },
    {
      "cell_type": "code",
      "source": [
        "# Installer les bibliothèques à partir du fichier requirements.txt\n",
        "!pip install -r requirements.txt"
      ],
      "metadata": {
        "colab": {
          "base_uri": "https://localhost:8080/"
        },
        "id": "1BhvBqp-yO1B",
        "outputId": "8212ef26-7116-47af-afed-f06d1f3d61fe"
      },
      "id": "1BhvBqp-yO1B",
      "execution_count": null,
      "outputs": [
        {
          "output_type": "stream",
          "name": "stdout",
          "text": [
            "Requirement already satisfied: tensorflow in /usr/local/lib/python3.10/dist-packages (from -r requirements.txt (line 1)) (2.15.0)\n",
            "Requirement already satisfied: keras in /usr/local/lib/python3.10/dist-packages (from -r requirements.txt (line 2)) (2.15.0)\n",
            "Requirement already satisfied: pandas in /usr/local/lib/python3.10/dist-packages (from -r requirements.txt (line 3)) (2.0.3)\n",
            "Requirement already satisfied: numpy in /usr/local/lib/python3.10/dist-packages (from -r requirements.txt (line 4)) (1.25.2)\n",
            "Collecting jupyter (from -r requirements.txt (line 5))\n",
            "  Using cached jupyter-1.0.0-py2.py3-none-any.whl (2.7 kB)\n",
            "Requirement already satisfied: notebook in /usr/local/lib/python3.10/dist-packages (from -r requirements.txt (line 6)) (6.5.5)\n",
            "Requirement already satisfied: tqdm in /usr/local/lib/python3.10/dist-packages (from -r requirements.txt (line 7)) (4.66.4)\n",
            "Collecting opencv-contrib-python (from -r requirements.txt (line 8))\n",
            "  Using cached opencv_contrib_python-4.9.0.80-cp37-abi3-manylinux_2_17_x86_64.manylinux2014_x86_64.whl (68.3 MB)\n",
            "Requirement already satisfied: scikit-learn in /usr/local/lib/python3.10/dist-packages (from -r requirements.txt (line 9)) (1.2.2)\n",
            "Collecting keras_preprocessing (from -r requirements.txt (line 10))\n",
            "  Using cached Keras_Preprocessing-1.1.2-py2.py3-none-any.whl (42 kB)\n",
            "Requirement already satisfied: absl-py>=1.0.0 in /usr/local/lib/python3.10/dist-packages (from tensorflow->-r requirements.txt (line 1)) (1.4.0)\n",
            "Requirement already satisfied: astunparse>=1.6.0 in /usr/local/lib/python3.10/dist-packages (from tensorflow->-r requirements.txt (line 1)) (1.6.3)\n",
            "Requirement already satisfied: flatbuffers>=23.5.26 in /usr/local/lib/python3.10/dist-packages (from tensorflow->-r requirements.txt (line 1)) (24.3.25)\n",
            "Requirement already satisfied: gast!=0.5.0,!=0.5.1,!=0.5.2,>=0.2.1 in /usr/local/lib/python3.10/dist-packages (from tensorflow->-r requirements.txt (line 1)) (0.5.4)\n",
            "Requirement already satisfied: google-pasta>=0.1.1 in /usr/local/lib/python3.10/dist-packages (from tensorflow->-r requirements.txt (line 1)) (0.2.0)\n",
            "Requirement already satisfied: h5py>=2.9.0 in /usr/local/lib/python3.10/dist-packages (from tensorflow->-r requirements.txt (line 1)) (3.11.0)\n",
            "Requirement already satisfied: libclang>=13.0.0 in /usr/local/lib/python3.10/dist-packages (from tensorflow->-r requirements.txt (line 1)) (18.1.1)\n",
            "Requirement already satisfied: ml-dtypes~=0.2.0 in /usr/local/lib/python3.10/dist-packages (from tensorflow->-r requirements.txt (line 1)) (0.2.0)\n",
            "Requirement already satisfied: opt-einsum>=2.3.2 in /usr/local/lib/python3.10/dist-packages (from tensorflow->-r requirements.txt (line 1)) (3.3.0)\n",
            "Requirement already satisfied: packaging in /usr/local/lib/python3.10/dist-packages (from tensorflow->-r requirements.txt (line 1)) (24.0)\n",
            "Requirement already satisfied: protobuf!=4.21.0,!=4.21.1,!=4.21.2,!=4.21.3,!=4.21.4,!=4.21.5,<5.0.0dev,>=3.20.3 in /usr/local/lib/python3.10/dist-packages (from tensorflow->-r requirements.txt (line 1)) (3.20.3)\n",
            "Requirement already satisfied: setuptools in /usr/local/lib/python3.10/dist-packages (from tensorflow->-r requirements.txt (line 1)) (67.7.2)\n",
            "Requirement already satisfied: six>=1.12.0 in /usr/local/lib/python3.10/dist-packages (from tensorflow->-r requirements.txt (line 1)) (1.16.0)\n",
            "Requirement already satisfied: termcolor>=1.1.0 in /usr/local/lib/python3.10/dist-packages (from tensorflow->-r requirements.txt (line 1)) (2.4.0)\n",
            "Requirement already satisfied: typing-extensions>=3.6.6 in /usr/local/lib/python3.10/dist-packages (from tensorflow->-r requirements.txt (line 1)) (4.11.0)\n",
            "Requirement already satisfied: wrapt<1.15,>=1.11.0 in /usr/local/lib/python3.10/dist-packages (from tensorflow->-r requirements.txt (line 1)) (1.14.1)\n",
            "Requirement already satisfied: tensorflow-io-gcs-filesystem>=0.23.1 in /usr/local/lib/python3.10/dist-packages (from tensorflow->-r requirements.txt (line 1)) (0.37.0)\n",
            "Requirement already satisfied: grpcio<2.0,>=1.24.3 in /usr/local/lib/python3.10/dist-packages (from tensorflow->-r requirements.txt (line 1)) (1.64.0)\n",
            "Requirement already satisfied: tensorboard<2.16,>=2.15 in /usr/local/lib/python3.10/dist-packages (from tensorflow->-r requirements.txt (line 1)) (2.15.2)\n",
            "Requirement already satisfied: tensorflow-estimator<2.16,>=2.15.0 in /usr/local/lib/python3.10/dist-packages (from tensorflow->-r requirements.txt (line 1)) (2.15.0)\n",
            "Requirement already satisfied: python-dateutil>=2.8.2 in /usr/local/lib/python3.10/dist-packages (from pandas->-r requirements.txt (line 3)) (2.9.0.post0)\n",
            "Requirement already satisfied: pytz>=2020.1 in /usr/local/lib/python3.10/dist-packages (from pandas->-r requirements.txt (line 3)) (2024.1)\n",
            "Requirement already satisfied: tzdata>=2022.1 in /usr/local/lib/python3.10/dist-packages (from pandas->-r requirements.txt (line 3)) (2024.1)\n",
            "Collecting qtconsole (from jupyter->-r requirements.txt (line 5))\n",
            "  Downloading qtconsole-5.5.2-py3-none-any.whl (123 kB)\n",
            "\u001b[2K     \u001b[90m━━━━━━━━━━━━━━━━━━━━━━━━━━━━━━━━━━━━━━━━\u001b[0m \u001b[32m123.4/123.4 kB\u001b[0m \u001b[31m1.3 MB/s\u001b[0m eta \u001b[36m0:00:00\u001b[0m\n",
            "\u001b[?25hRequirement already satisfied: jupyter-console in /usr/local/lib/python3.10/dist-packages (from jupyter->-r requirements.txt (line 5)) (6.1.0)\n",
            "Requirement already satisfied: nbconvert in /usr/local/lib/python3.10/dist-packages (from jupyter->-r requirements.txt (line 5)) (7.16.4)\n",
            "Requirement already satisfied: ipykernel in /usr/local/lib/python3.10/dist-packages (from jupyter->-r requirements.txt (line 5)) (5.5.6)\n",
            "Requirement already satisfied: ipywidgets in /usr/local/lib/python3.10/dist-packages (from jupyter->-r requirements.txt (line 5)) (7.7.1)\n",
            "Requirement already satisfied: jinja2 in /usr/local/lib/python3.10/dist-packages (from notebook->-r requirements.txt (line 6)) (3.1.4)\n",
            "Requirement already satisfied: tornado>=6.1 in /usr/local/lib/python3.10/dist-packages (from notebook->-r requirements.txt (line 6)) (6.3.3)\n",
            "Requirement already satisfied: pyzmq<25,>=17 in /usr/local/lib/python3.10/dist-packages (from notebook->-r requirements.txt (line 6)) (24.0.1)\n",
            "Requirement already satisfied: argon2-cffi in /usr/local/lib/python3.10/dist-packages (from notebook->-r requirements.txt (line 6)) (23.1.0)\n",
            "Requirement already satisfied: traitlets>=4.2.1 in /usr/local/lib/python3.10/dist-packages (from notebook->-r requirements.txt (line 6)) (5.7.1)\n",
            "Requirement already satisfied: jupyter-core>=4.6.1 in /usr/local/lib/python3.10/dist-packages (from notebook->-r requirements.txt (line 6)) (5.7.2)\n",
            "Requirement already satisfied: jupyter-client<8,>=5.3.4 in /usr/local/lib/python3.10/dist-packages (from notebook->-r requirements.txt (line 6)) (6.1.12)\n",
            "Requirement already satisfied: ipython-genutils in /usr/local/lib/python3.10/dist-packages (from notebook->-r requirements.txt (line 6)) (0.2.0)\n",
            "Requirement already satisfied: nbformat in /usr/local/lib/python3.10/dist-packages (from notebook->-r requirements.txt (line 6)) (5.10.4)\n",
            "Requirement already satisfied: nest-asyncio>=1.5 in /usr/local/lib/python3.10/dist-packages (from notebook->-r requirements.txt (line 6)) (1.6.0)\n",
            "Requirement already satisfied: Send2Trash>=1.8.0 in /usr/local/lib/python3.10/dist-packages (from notebook->-r requirements.txt (line 6)) (1.8.3)\n",
            "Requirement already satisfied: terminado>=0.8.3 in /usr/local/lib/python3.10/dist-packages (from notebook->-r requirements.txt (line 6)) (0.18.1)\n",
            "Requirement already satisfied: prometheus-client in /usr/local/lib/python3.10/dist-packages (from notebook->-r requirements.txt (line 6)) (0.20.0)\n",
            "Requirement already satisfied: nbclassic>=0.4.7 in /usr/local/lib/python3.10/dist-packages (from notebook->-r requirements.txt (line 6)) (1.0.0)\n",
            "Requirement already satisfied: scipy>=1.3.2 in /usr/local/lib/python3.10/dist-packages (from scikit-learn->-r requirements.txt (line 9)) (1.11.4)\n",
            "Requirement already satisfied: joblib>=1.1.1 in /usr/local/lib/python3.10/dist-packages (from scikit-learn->-r requirements.txt (line 9)) (1.4.2)\n",
            "Requirement already satisfied: threadpoolctl>=2.0.0 in /usr/local/lib/python3.10/dist-packages (from scikit-learn->-r requirements.txt (line 9)) (3.5.0)\n",
            "Requirement already satisfied: wheel<1.0,>=0.23.0 in /usr/local/lib/python3.10/dist-packages (from astunparse>=1.6.0->tensorflow->-r requirements.txt (line 1)) (0.43.0)\n",
            "Requirement already satisfied: platformdirs>=2.5 in /usr/local/lib/python3.10/dist-packages (from jupyter-core>=4.6.1->notebook->-r requirements.txt (line 6)) (4.2.2)\n",
            "Requirement already satisfied: jupyter-server>=1.8 in /usr/local/lib/python3.10/dist-packages (from nbclassic>=0.4.7->notebook->-r requirements.txt (line 6)) (1.24.0)\n",
            "Requirement already satisfied: notebook-shim>=0.2.3 in /usr/local/lib/python3.10/dist-packages (from nbclassic>=0.4.7->notebook->-r requirements.txt (line 6)) (0.2.4)\n",
            "Requirement already satisfied: beautifulsoup4 in /usr/local/lib/python3.10/dist-packages (from nbconvert->jupyter->-r requirements.txt (line 5)) (4.12.3)\n",
            "Requirement already satisfied: bleach!=5.0.0 in /usr/local/lib/python3.10/dist-packages (from nbconvert->jupyter->-r requirements.txt (line 5)) (6.1.0)\n",
            "Requirement already satisfied: defusedxml in /usr/local/lib/python3.10/dist-packages (from nbconvert->jupyter->-r requirements.txt (line 5)) (0.7.1)\n",
            "Requirement already satisfied: jupyterlab-pygments in /usr/local/lib/python3.10/dist-packages (from nbconvert->jupyter->-r requirements.txt (line 5)) (0.3.0)\n",
            "Requirement already satisfied: markupsafe>=2.0 in /usr/local/lib/python3.10/dist-packages (from nbconvert->jupyter->-r requirements.txt (line 5)) (2.1.5)\n",
            "Requirement already satisfied: mistune<4,>=2.0.3 in /usr/local/lib/python3.10/dist-packages (from nbconvert->jupyter->-r requirements.txt (line 5)) (3.0.2)\n",
            "Requirement already satisfied: nbclient>=0.5.0 in /usr/local/lib/python3.10/dist-packages (from nbconvert->jupyter->-r requirements.txt (line 5)) (0.10.0)\n",
            "Requirement already satisfied: pandocfilters>=1.4.1 in /usr/local/lib/python3.10/dist-packages (from nbconvert->jupyter->-r requirements.txt (line 5)) (1.5.1)\n",
            "Requirement already satisfied: pygments>=2.4.1 in /usr/local/lib/python3.10/dist-packages (from nbconvert->jupyter->-r requirements.txt (line 5)) (2.18.0)\n",
            "Requirement already satisfied: tinycss2 in /usr/local/lib/python3.10/dist-packages (from nbconvert->jupyter->-r requirements.txt (line 5)) (1.3.0)\n",
            "Requirement already satisfied: fastjsonschema>=2.15 in /usr/local/lib/python3.10/dist-packages (from nbformat->notebook->-r requirements.txt (line 6)) (2.19.1)\n",
            "Requirement already satisfied: jsonschema>=2.6 in /usr/local/lib/python3.10/dist-packages (from nbformat->notebook->-r requirements.txt (line 6)) (4.22.0)\n",
            "Requirement already satisfied: google-auth<3,>=1.6.3 in /usr/local/lib/python3.10/dist-packages (from tensorboard<2.16,>=2.15->tensorflow->-r requirements.txt (line 1)) (2.27.0)\n",
            "Requirement already satisfied: google-auth-oauthlib<2,>=0.5 in /usr/local/lib/python3.10/dist-packages (from tensorboard<2.16,>=2.15->tensorflow->-r requirements.txt (line 1)) (1.2.0)\n",
            "Requirement already satisfied: markdown>=2.6.8 in /usr/local/lib/python3.10/dist-packages (from tensorboard<2.16,>=2.15->tensorflow->-r requirements.txt (line 1)) (3.6)\n",
            "Requirement already satisfied: requests<3,>=2.21.0 in /usr/local/lib/python3.10/dist-packages (from tensorboard<2.16,>=2.15->tensorflow->-r requirements.txt (line 1)) (2.31.0)\n",
            "Requirement already satisfied: tensorboard-data-server<0.8.0,>=0.7.0 in /usr/local/lib/python3.10/dist-packages (from tensorboard<2.16,>=2.15->tensorflow->-r requirements.txt (line 1)) (0.7.2)\n",
            "Requirement already satisfied: werkzeug>=1.0.1 in /usr/local/lib/python3.10/dist-packages (from tensorboard<2.16,>=2.15->tensorflow->-r requirements.txt (line 1)) (3.0.3)\n",
            "Requirement already satisfied: ptyprocess in /usr/local/lib/python3.10/dist-packages (from terminado>=0.8.3->notebook->-r requirements.txt (line 6)) (0.7.0)\n",
            "Requirement already satisfied: argon2-cffi-bindings in /usr/local/lib/python3.10/dist-packages (from argon2-cffi->notebook->-r requirements.txt (line 6)) (21.2.0)\n",
            "Requirement already satisfied: ipython>=5.0.0 in /usr/local/lib/python3.10/dist-packages (from ipykernel->jupyter->-r requirements.txt (line 5)) (7.34.0)\n",
            "Requirement already satisfied: widgetsnbextension~=3.6.0 in /usr/local/lib/python3.10/dist-packages (from ipywidgets->jupyter->-r requirements.txt (line 5)) (3.6.6)\n",
            "Requirement already satisfied: jupyterlab-widgets>=1.0.0 in /usr/local/lib/python3.10/dist-packages (from ipywidgets->jupyter->-r requirements.txt (line 5)) (3.0.10)\n",
            "Requirement already satisfied: prompt-toolkit!=3.0.0,!=3.0.1,<3.1.0,>=2.0.0 in /usr/local/lib/python3.10/dist-packages (from jupyter-console->jupyter->-r requirements.txt (line 5)) (3.0.43)\n",
            "Collecting qtpy>=2.4.0 (from qtconsole->jupyter->-r requirements.txt (line 5))\n",
            "  Downloading QtPy-2.4.1-py3-none-any.whl (93 kB)\n",
            "\u001b[2K     \u001b[90m━━━━━━━━━━━━━━━━━━━━━━━━━━━━━━━━━━━━━━━━\u001b[0m \u001b[32m93.5/93.5 kB\u001b[0m \u001b[31m4.7 MB/s\u001b[0m eta \u001b[36m0:00:00\u001b[0m\n",
            "\u001b[?25hRequirement already satisfied: webencodings in /usr/local/lib/python3.10/dist-packages (from bleach!=5.0.0->nbconvert->jupyter->-r requirements.txt (line 5)) (0.5.1)\n",
            "Requirement already satisfied: cachetools<6.0,>=2.0.0 in /usr/local/lib/python3.10/dist-packages (from google-auth<3,>=1.6.3->tensorboard<2.16,>=2.15->tensorflow->-r requirements.txt (line 1)) (5.3.3)\n",
            "Requirement already satisfied: pyasn1-modules>=0.2.1 in /usr/local/lib/python3.10/dist-packages (from google-auth<3,>=1.6.3->tensorboard<2.16,>=2.15->tensorflow->-r requirements.txt (line 1)) (0.4.0)\n",
            "Requirement already satisfied: rsa<5,>=3.1.4 in /usr/local/lib/python3.10/dist-packages (from google-auth<3,>=1.6.3->tensorboard<2.16,>=2.15->tensorflow->-r requirements.txt (line 1)) (4.9)\n",
            "Requirement already satisfied: requests-oauthlib>=0.7.0 in /usr/local/lib/python3.10/dist-packages (from google-auth-oauthlib<2,>=0.5->tensorboard<2.16,>=2.15->tensorflow->-r requirements.txt (line 1)) (2.0.0)\n",
            "Collecting jedi>=0.16 (from ipython>=5.0.0->ipykernel->jupyter->-r requirements.txt (line 5))\n",
            "  Downloading jedi-0.19.1-py2.py3-none-any.whl (1.6 MB)\n",
            "\u001b[2K     \u001b[90m━━━━━━━━━━━━━━━━━━━━━━━━━━━━━━━━━━━━━━━━\u001b[0m \u001b[32m1.6/1.6 MB\u001b[0m \u001b[31m13.1 MB/s\u001b[0m eta \u001b[36m0:00:00\u001b[0m\n",
            "\u001b[?25hRequirement already satisfied: decorator in /usr/local/lib/python3.10/dist-packages (from ipython>=5.0.0->ipykernel->jupyter->-r requirements.txt (line 5)) (5.1.1)\n",
            "Requirement already satisfied: pickleshare in /usr/local/lib/python3.10/dist-packages (from ipython>=5.0.0->ipykernel->jupyter->-r requirements.txt (line 5)) (0.7.5)\n",
            "Requirement already satisfied: backcall in /usr/local/lib/python3.10/dist-packages (from ipython>=5.0.0->ipykernel->jupyter->-r requirements.txt (line 5)) (0.2.0)\n",
            "Requirement already satisfied: matplotlib-inline in /usr/local/lib/python3.10/dist-packages (from ipython>=5.0.0->ipykernel->jupyter->-r requirements.txt (line 5)) (0.1.7)\n",
            "Requirement already satisfied: pexpect>4.3 in /usr/local/lib/python3.10/dist-packages (from ipython>=5.0.0->ipykernel->jupyter->-r requirements.txt (line 5)) (4.9.0)\n",
            "Requirement already satisfied: attrs>=22.2.0 in /usr/local/lib/python3.10/dist-packages (from jsonschema>=2.6->nbformat->notebook->-r requirements.txt (line 6)) (23.2.0)\n",
            "Requirement already satisfied: jsonschema-specifications>=2023.03.6 in /usr/local/lib/python3.10/dist-packages (from jsonschema>=2.6->nbformat->notebook->-r requirements.txt (line 6)) (2023.12.1)\n",
            "Requirement already satisfied: referencing>=0.28.4 in /usr/local/lib/python3.10/dist-packages (from jsonschema>=2.6->nbformat->notebook->-r requirements.txt (line 6)) (0.35.1)\n",
            "Requirement already satisfied: rpds-py>=0.7.1 in /usr/local/lib/python3.10/dist-packages (from jsonschema>=2.6->nbformat->notebook->-r requirements.txt (line 6)) (0.18.1)\n",
            "Requirement already satisfied: anyio<4,>=3.1.0 in /usr/local/lib/python3.10/dist-packages (from jupyter-server>=1.8->nbclassic>=0.4.7->notebook->-r requirements.txt (line 6)) (3.7.1)\n",
            "Requirement already satisfied: websocket-client in /usr/local/lib/python3.10/dist-packages (from jupyter-server>=1.8->nbclassic>=0.4.7->notebook->-r requirements.txt (line 6)) (1.8.0)\n",
            "Requirement already satisfied: wcwidth in /usr/local/lib/python3.10/dist-packages (from prompt-toolkit!=3.0.0,!=3.0.1,<3.1.0,>=2.0.0->jupyter-console->jupyter->-r requirements.txt (line 5)) (0.2.13)\n",
            "Requirement already satisfied: charset-normalizer<4,>=2 in /usr/local/lib/python3.10/dist-packages (from requests<3,>=2.21.0->tensorboard<2.16,>=2.15->tensorflow->-r requirements.txt (line 1)) (3.3.2)\n",
            "Requirement already satisfied: idna<4,>=2.5 in /usr/local/lib/python3.10/dist-packages (from requests<3,>=2.21.0->tensorboard<2.16,>=2.15->tensorflow->-r requirements.txt (line 1)) (3.7)\n",
            "Requirement already satisfied: urllib3<3,>=1.21.1 in /usr/local/lib/python3.10/dist-packages (from requests<3,>=2.21.0->tensorboard<2.16,>=2.15->tensorflow->-r requirements.txt (line 1)) (2.0.7)\n",
            "Requirement already satisfied: certifi>=2017.4.17 in /usr/local/lib/python3.10/dist-packages (from requests<3,>=2.21.0->tensorboard<2.16,>=2.15->tensorflow->-r requirements.txt (line 1)) (2024.2.2)\n",
            "Requirement already satisfied: cffi>=1.0.1 in /usr/local/lib/python3.10/dist-packages (from argon2-cffi-bindings->argon2-cffi->notebook->-r requirements.txt (line 6)) (1.16.0)\n",
            "Requirement already satisfied: soupsieve>1.2 in /usr/local/lib/python3.10/dist-packages (from beautifulsoup4->nbconvert->jupyter->-r requirements.txt (line 5)) (2.5)\n",
            "Requirement already satisfied: sniffio>=1.1 in /usr/local/lib/python3.10/dist-packages (from anyio<4,>=3.1.0->jupyter-server>=1.8->nbclassic>=0.4.7->notebook->-r requirements.txt (line 6)) (1.3.1)\n",
            "Requirement already satisfied: exceptiongroup in /usr/local/lib/python3.10/dist-packages (from anyio<4,>=3.1.0->jupyter-server>=1.8->nbclassic>=0.4.7->notebook->-r requirements.txt (line 6)) (1.2.1)\n",
            "Requirement already satisfied: pycparser in /usr/local/lib/python3.10/dist-packages (from cffi>=1.0.1->argon2-cffi-bindings->argon2-cffi->notebook->-r requirements.txt (line 6)) (2.22)\n",
            "Requirement already satisfied: parso<0.9.0,>=0.8.3 in /usr/local/lib/python3.10/dist-packages (from jedi>=0.16->ipython>=5.0.0->ipykernel->jupyter->-r requirements.txt (line 5)) (0.8.4)\n",
            "Requirement already satisfied: pyasn1<0.7.0,>=0.4.6 in /usr/local/lib/python3.10/dist-packages (from pyasn1-modules>=0.2.1->google-auth<3,>=1.6.3->tensorboard<2.16,>=2.15->tensorflow->-r requirements.txt (line 1)) (0.6.0)\n",
            "Requirement already satisfied: oauthlib>=3.0.0 in /usr/local/lib/python3.10/dist-packages (from requests-oauthlib>=0.7.0->google-auth-oauthlib<2,>=0.5->tensorboard<2.16,>=2.15->tensorflow->-r requirements.txt (line 1)) (3.2.2)\n",
            "Installing collected packages: qtpy, opencv-contrib-python, keras_preprocessing, jedi, qtconsole, jupyter\n",
            "Successfully installed jedi-0.19.1 jupyter-1.0.0 keras_preprocessing-1.1.2 opencv-contrib-python-4.9.0.80 qtconsole-5.5.2 qtpy-2.4.1\n"
          ]
        }
      ]
    },
    {
      "cell_type": "markdown",
      "source": [
        "# **3.Importation des bibliothèques nécessaires**"
      ],
      "metadata": {
        "id": "oCF4B9Abt2uV"
      },
      "id": "oCF4B9Abt2uV"
    },
    {
      "cell_type": "code",
      "execution_count": null,
      "id": "19ce7749",
      "metadata": {
        "id": "19ce7749"
      },
      "outputs": [],
      "source": [
        "from keras.utils import to_categorical\n",
        "from keras_preprocessing.image import load_img\n",
        "from keras.models import Sequential\n",
        "from keras.layers import Dense, Conv2D, Dropout, Flatten, MaxPooling2D\n",
        "from keras.models import model_from_json\n",
        "from sklearn.preprocessing import LabelEncoder\n",
        "from tqdm.notebook import tqdm\n",
        "import zipfile\n",
        "import os\n",
        "import pandas as pd\n",
        "import numpy as np\n",
        "import matplotlib.pyplot as plt"
      ]
    },
    {
      "cell_type": "markdown",
      "source": [
        "# **4.Définir les chemins des répertoires**"
      ],
      "metadata": {
        "id": "rzapEeMRuYjy"
      },
      "id": "rzapEeMRuYjy"
    },
    {
      "cell_type": "code",
      "execution_count": null,
      "id": "02e9c221",
      "metadata": {
        "id": "02e9c221"
      },
      "outputs": [],
      "source": [
        "# Définir les chemins des répertoires pour les ensembles d'images d'entraînement et de validation\n",
        "TRAIN_DIR = '/content/images/train'    # Chemin vers le répertoire contenant les images d'entraînement\n",
        "TEST_DIR = '/content/images/validation' # Chemin vers le répertoire contenant les images de validation"
      ]
    },
    {
      "cell_type": "markdown",
      "source": [
        "# **5.Téléchargement et extraction du jeu de données**"
      ],
      "metadata": {
        "id": "rkoxIiQ7ukRI"
      },
      "id": "rkoxIiQ7ukRI"
    },
    {
      "cell_type": "code",
      "execution_count": null,
      "id": "wpQYSVlGrPa7",
      "metadata": {
        "id": "wpQYSVlGrPa7"
      },
      "outputs": [],
      "source": [
        "# Chemin vers le fichier zip téléchargé\n",
        "zip_file_path = \"/content/drive/MyDrive/Colab_Notebooks/archive.zip\"\n",
        "\n",
        "# Répertoire où extraire le jeu de données\n",
        "extracted_dir = \"/content\"\n",
        "\n",
        "# Extraire le fichier zip\n",
        "with zipfile.ZipFile(zip_file_path, 'r') as zip_ref:\n",
        "    zip_ref.extractall(extracted_dir)\n"
      ]
    },
    {
      "cell_type": "markdown",
      "source": [
        "# **6.Fonction pour créer un DataFrame à partir des images**"
      ],
      "metadata": {
        "id": "6hTWvEcXurre"
      },
      "id": "6hTWvEcXurre"
    },
    {
      "cell_type": "code",
      "execution_count": null,
      "id": "ede9c1f1",
      "metadata": {
        "id": "ede9c1f1"
      },
      "outputs": [],
      "source": [
        "# Fonction pour créer des listes de chemins d'images et d'étiquettes à partir d'un répertoire donné\n",
        "def createdataframe(dir):\n",
        "    image_paths = []  # Liste pour stocker les chemins des images\n",
        "    labels = []       # Liste pour stocker les étiquettes des images\n",
        "\n",
        "    # Parcourir chaque sous-répertoire (étiquette) dans le répertoire principal\n",
        "    for label in os.listdir(dir):\n",
        "\n",
        "        # Parcourir chaque fichier image dans le sous-répertoire de l'étiquette\n",
        "        for imagename in os.listdir(os.path.join(dir, label)):\n",
        "            # Ajouter le chemin complet de l'image à la liste des chemins\n",
        "            image_paths.append(os.path.join(dir, label, imagename))\n",
        "            # Ajouter l'étiquette correspondante à la liste des étiquettes\n",
        "            labels.append(label)\n",
        "\n",
        "        # Indiquer que toutes les images de cette étiquette ont été traitées\n",
        "        print(label, \"completed\")\n",
        "\n",
        "    # Retourner les listes des chemins d'images et des étiquettes\n",
        "    return image_paths, labels\n"
      ]
    },
    {
      "cell_type": "markdown",
      "source": [
        "# **7.Création du DataFrame pour les données d'entraînement et de validation**"
      ],
      "metadata": {
        "id": "7OebhahWu8QC"
      },
      "id": "7OebhahWu8QC"
    },
    {
      "cell_type": "code",
      "execution_count": null,
      "id": "a3a8f1a9",
      "metadata": {
        "id": "a3a8f1a9",
        "colab": {
          "base_uri": "https://localhost:8080/"
        },
        "outputId": "66b6a5ca-32ed-400c-e029-683bc5d26121"
      },
      "outputs": [
        {
          "output_type": "stream",
          "name": "stdout",
          "text": [
            "disgust completed\n",
            "fear completed\n",
            "neutral completed\n",
            "angry completed\n",
            "happy completed\n",
            "sad completed\n",
            "surprise completed\n"
          ]
        }
      ],
      "source": [
        "# Créer un DataFrame vide\n",
        "train = pd.DataFrame()\n",
        "\n",
        "# Appeler la fonction createdataframe pour obtenir les chemins des images et les étiquettes à partir de TRAIN_DIR\n",
        "train['image'], train['label'] = createdataframe(TRAIN_DIR)  # Assigner les chemins des images à la colonne 'image' et les étiquettes à la colonne 'label' du DataFrame\n"
      ]
    },
    {
      "cell_type": "code",
      "execution_count": null,
      "id": "7f9688fc",
      "metadata": {
        "id": "7f9688fc",
        "colab": {
          "base_uri": "https://localhost:8080/"
        },
        "outputId": "a094912e-8632-4aec-c9cf-c306932b37de"
      },
      "outputs": [
        {
          "output_type": "stream",
          "name": "stdout",
          "text": [
            "disgust completed\n",
            "fear completed\n",
            "neutral completed\n",
            "angry completed\n",
            "happy completed\n",
            "sad completed\n",
            "surprise completed\n"
          ]
        }
      ],
      "source": [
        "test = pd.DataFrame()\n",
        "test['image'], test['label'] = createdataframe(TEST_DIR)"
      ]
    },
    {
      "cell_type": "markdown",
      "source": [
        "# **8.Extraction des caractéristiques des images**"
      ],
      "metadata": {
        "id": "DZ5wKeALvEdT"
      },
      "id": "DZ5wKeALvEdT"
    },
    {
      "cell_type": "code",
      "execution_count": null,
      "id": "f52ccbbe",
      "metadata": {
        "id": "f52ccbbe"
      },
      "outputs": [],
      "source": [
        "# Fonction pour extraire les caractéristiques des images\n",
        "def extract_features(images):\n",
        "    features = []  # Liste pour stocker les caractéristiques des images\n",
        "\n",
        "    # Parcourir chaque image avec une barre de progression\n",
        "    for image in tqdm(images):\n",
        "        # Charger l'image en niveaux de gris\n",
        "        img = load_img(image, color_mode='grayscale')\n",
        "\n",
        "        # Convertir l'image en tableau NumPy\n",
        "        img = np.array(img)\n",
        "\n",
        "        # Ajouter l'image (sous forme de tableau) à la liste des caractéristiques\n",
        "        features.append(img)\n",
        "\n",
        "    # Convertir la liste en tableau NumPy\n",
        "    features = np.array(features)\n",
        "\n",
        "    # Redimensionner le tableau pour qu'il ait la forme (nombre d'images, 48, 48, 1)\n",
        "    features = features.reshape(len(features), 48, 48, 1)\n",
        "\n",
        "    # Retourner le tableau des caractéristiques\n",
        "    return features\n"
      ]
    },
    {
      "cell_type": "code",
      "execution_count": null,
      "id": "942a9d40",
      "metadata": {
        "id": "942a9d40",
        "colab": {
          "base_uri": "https://localhost:8080/",
          "referenced_widgets": [
            "84c0cc07c4af45f2b17eceedfc288c69",
            "4cb99831715e4e5fa8dbd82478b2546f",
            "d54c6a1b64b24b669929507871a0d510",
            "5a76c213bd8f4433b6498538d83d7fc9",
            "8bb644aa86c248a4964764dfd9887fca",
            "8818f78fe70d4a05aa77dcd74d1778b2",
            "18d5f6a6b54e4e6da17552cd815fdca7",
            "ffdb91dde2574fdba36d9fe55a7861ac",
            "3925654da79249739635a638f800cfda",
            "22f79d32c08f49ecbbc1bc90cb9245f2",
            "4392591d782a4cd28ff1b8067f35c835"
          ]
        },
        "outputId": "1c4a6a3d-0043-4221-ff79-6aa7472e28a0"
      },
      "outputs": [
        {
          "output_type": "display_data",
          "data": {
            "text/plain": [
              "  0%|          | 0/28821 [00:00<?, ?it/s]"
            ],
            "application/vnd.jupyter.widget-view+json": {
              "version_major": 2,
              "version_minor": 0,
              "model_id": "84c0cc07c4af45f2b17eceedfc288c69"
            }
          },
          "metadata": {}
        }
      ],
      "source": [
        "# Extraire les caractéristiques des images d'entraînement\n",
        "# La fonction extract_features est appelée avec la colonne 'image' du DataFrame train\n",
        "# Les caractéristiques extraites sont stockées dans la variable train_features\n",
        "train_features = extract_features(train['image'])"
      ]
    },
    {
      "cell_type": "code",
      "execution_count": null,
      "id": "c1b294ed",
      "metadata": {
        "id": "c1b294ed",
        "colab": {
          "base_uri": "https://localhost:8080/",
          "referenced_widgets": [
            "b74d3ff14f0c4cbf9b9f4977e7639838",
            "c034f701024e40009f3f3865f75371e0",
            "a7a2c9760d5e4bd99758dfbb2eaeba73",
            "0e005ba8eb7f474e980e63d2966f74cd",
            "7183d15baf1843e8bdffd5ebc36440e9",
            "cbcab4681e634725b25edac5d905e40a",
            "bdad486f8f3b4681b2658cb02eb762b2",
            "1f965aacfdb541cfb7375892e5d782f7",
            "74a0555d1c264bc58e1392259b90de62",
            "da05ca320d434e1d9ea39e4ce9728788",
            "b1bdfb3d549042d9ae9e6308f69c7e1a"
          ]
        },
        "outputId": "5019eb1d-6f0f-4494-f78e-baee0fa3c219"
      },
      "outputs": [
        {
          "output_type": "display_data",
          "data": {
            "text/plain": [
              "  0%|          | 0/7066 [00:00<?, ?it/s]"
            ],
            "application/vnd.jupyter.widget-view+json": {
              "version_major": 2,
              "version_minor": 0,
              "model_id": "b74d3ff14f0c4cbf9b9f4977e7639838"
            }
          },
          "metadata": {}
        }
      ],
      "source": [
        "# Extraire les caractéristiques des images de test\n",
        "# La fonction extract_features est appelée avec la colonne 'image' du DataFrame test\n",
        "# Les caractéristiques extraites sont stockées dans la variable test_features\n",
        "test_features = extract_features(test['image'])\n"
      ]
    },
    {
      "cell_type": "markdown",
      "source": [
        "# **9.Normalisation des caractéristiques et encodage des étiquettes**"
      ],
      "metadata": {
        "id": "myI1_2Wavhi8"
      },
      "id": "myI1_2Wavhi8"
    },
    {
      "cell_type": "code",
      "execution_count": null,
      "id": "f78b5d34",
      "metadata": {
        "id": "f78b5d34"
      },
      "outputs": [],
      "source": [
        "# Normaliser les caractéristiques des images d'entraînement en divisant chaque pixel par 255.0,\n",
        "# cela permet de mettre les valeurs des pixels dans la plage [0,1]\n",
        "x_train = train_features / 255.0\n",
        "\n",
        "# Normaliser les caractéristiques des images de test de la même manière\n",
        "x_test = test_features / 255.0\n"
      ]
    },
    {
      "cell_type": "code",
      "execution_count": null,
      "id": "5384a25b",
      "metadata": {
        "id": "5384a25b",
        "colab": {
          "base_uri": "https://localhost:8080/"
        },
        "outputId": "c3dc1a1d-80f5-4b92-96b2-a4ac6435ae4d"
      },
      "outputs": [
        {
          "output_type": "execute_result",
          "data": {
            "text/plain": [
              "LabelEncoder()"
            ],
            "text/html": [
              "<style>#sk-container-id-1 {color: black;background-color: white;}#sk-container-id-1 pre{padding: 0;}#sk-container-id-1 div.sk-toggleable {background-color: white;}#sk-container-id-1 label.sk-toggleable__label {cursor: pointer;display: block;width: 100%;margin-bottom: 0;padding: 0.3em;box-sizing: border-box;text-align: center;}#sk-container-id-1 label.sk-toggleable__label-arrow:before {content: \"▸\";float: left;margin-right: 0.25em;color: #696969;}#sk-container-id-1 label.sk-toggleable__label-arrow:hover:before {color: black;}#sk-container-id-1 div.sk-estimator:hover label.sk-toggleable__label-arrow:before {color: black;}#sk-container-id-1 div.sk-toggleable__content {max-height: 0;max-width: 0;overflow: hidden;text-align: left;background-color: #f0f8ff;}#sk-container-id-1 div.sk-toggleable__content pre {margin: 0.2em;color: black;border-radius: 0.25em;background-color: #f0f8ff;}#sk-container-id-1 input.sk-toggleable__control:checked~div.sk-toggleable__content {max-height: 200px;max-width: 100%;overflow: auto;}#sk-container-id-1 input.sk-toggleable__control:checked~label.sk-toggleable__label-arrow:before {content: \"▾\";}#sk-container-id-1 div.sk-estimator input.sk-toggleable__control:checked~label.sk-toggleable__label {background-color: #d4ebff;}#sk-container-id-1 div.sk-label input.sk-toggleable__control:checked~label.sk-toggleable__label {background-color: #d4ebff;}#sk-container-id-1 input.sk-hidden--visually {border: 0;clip: rect(1px 1px 1px 1px);clip: rect(1px, 1px, 1px, 1px);height: 1px;margin: -1px;overflow: hidden;padding: 0;position: absolute;width: 1px;}#sk-container-id-1 div.sk-estimator {font-family: monospace;background-color: #f0f8ff;border: 1px dotted black;border-radius: 0.25em;box-sizing: border-box;margin-bottom: 0.5em;}#sk-container-id-1 div.sk-estimator:hover {background-color: #d4ebff;}#sk-container-id-1 div.sk-parallel-item::after {content: \"\";width: 100%;border-bottom: 1px solid gray;flex-grow: 1;}#sk-container-id-1 div.sk-label:hover label.sk-toggleable__label {background-color: #d4ebff;}#sk-container-id-1 div.sk-serial::before {content: \"\";position: absolute;border-left: 1px solid gray;box-sizing: border-box;top: 0;bottom: 0;left: 50%;z-index: 0;}#sk-container-id-1 div.sk-serial {display: flex;flex-direction: column;align-items: center;background-color: white;padding-right: 0.2em;padding-left: 0.2em;position: relative;}#sk-container-id-1 div.sk-item {position: relative;z-index: 1;}#sk-container-id-1 div.sk-parallel {display: flex;align-items: stretch;justify-content: center;background-color: white;position: relative;}#sk-container-id-1 div.sk-item::before, #sk-container-id-1 div.sk-parallel-item::before {content: \"\";position: absolute;border-left: 1px solid gray;box-sizing: border-box;top: 0;bottom: 0;left: 50%;z-index: -1;}#sk-container-id-1 div.sk-parallel-item {display: flex;flex-direction: column;z-index: 1;position: relative;background-color: white;}#sk-container-id-1 div.sk-parallel-item:first-child::after {align-self: flex-end;width: 50%;}#sk-container-id-1 div.sk-parallel-item:last-child::after {align-self: flex-start;width: 50%;}#sk-container-id-1 div.sk-parallel-item:only-child::after {width: 0;}#sk-container-id-1 div.sk-dashed-wrapped {border: 1px dashed gray;margin: 0 0.4em 0.5em 0.4em;box-sizing: border-box;padding-bottom: 0.4em;background-color: white;}#sk-container-id-1 div.sk-label label {font-family: monospace;font-weight: bold;display: inline-block;line-height: 1.2em;}#sk-container-id-1 div.sk-label-container {text-align: center;}#sk-container-id-1 div.sk-container {/* jupyter's `normalize.less` sets `[hidden] { display: none; }` but bootstrap.min.css set `[hidden] { display: none !important; }` so we also need the `!important` here to be able to override the default hidden behavior on the sphinx rendered scikit-learn.org. See: https://github.com/scikit-learn/scikit-learn/issues/21755 */display: inline-block !important;position: relative;}#sk-container-id-1 div.sk-text-repr-fallback {display: none;}</style><div id=\"sk-container-id-1\" class=\"sk-top-container\"><div class=\"sk-text-repr-fallback\"><pre>LabelEncoder()</pre><b>In a Jupyter environment, please rerun this cell to show the HTML representation or trust the notebook. <br />On GitHub, the HTML representation is unable to render, please try loading this page with nbviewer.org.</b></div><div class=\"sk-container\" hidden><div class=\"sk-item\"><div class=\"sk-estimator sk-toggleable\"><input class=\"sk-toggleable__control sk-hidden--visually\" id=\"sk-estimator-id-1\" type=\"checkbox\" checked><label for=\"sk-estimator-id-1\" class=\"sk-toggleable__label sk-toggleable__label-arrow\">LabelEncoder</label><div class=\"sk-toggleable__content\"><pre>LabelEncoder()</pre></div></div></div></div></div>"
            ]
          },
          "metadata": {},
          "execution_count": 36
        }
      ],
      "source": [
        "# Créer une instance de LabelEncoder pour encoder les étiquettes des classes\n",
        "le = LabelEncoder()\n",
        "\n",
        "# Adapter l'encodeur aux étiquettes de la colonne 'label' du DataFrame train\n",
        "le.fit(train['label'])\n"
      ]
    },
    {
      "cell_type": "code",
      "execution_count": null,
      "id": "50ece229",
      "metadata": {
        "id": "50ece229"
      },
      "outputs": [],
      "source": [
        "# Utiliser l'encodeur de labels pour transformer les étiquettes de classe en valeurs numériques pour les données d'entraînement\n",
        "y_train = le.transform(train['label'])\n",
        "\n",
        "# Utiliser l'encodeur de labels pour transformer les étiquettes de classe en valeurs numériques pour les données de test\n",
        "y_test = le.transform(test['label'])\n"
      ]
    },
    {
      "cell_type": "code",
      "execution_count": null,
      "id": "5e284299",
      "metadata": {
        "id": "5e284299"
      },
      "outputs": [],
      "source": [
        "# Convertir les étiquettes numériques d'entraînement en vecteurs binaires\n",
        "# avec une dimension égale au nombre de classes (7 dans cet exemple)\n",
        "y_train = to_categorical(y_train, num_classes=7)\n",
        "\n",
        "# Convertir les étiquettes numériques de test en vecteurs binaires\n",
        "# avec une dimension égale au nombre de classes (7 dans cet exemple)\n",
        "y_test = to_categorical(y_test, num_classes=7)\n"
      ]
    },
    {
      "cell_type": "markdown",
      "source": [
        "# **10.Construction du modèle CNN**"
      ],
      "metadata": {
        "id": "QExUzGk1vr3B"
      },
      "id": "QExUzGk1vr3B"
    },
    {
      "cell_type": "code",
      "execution_count": null,
      "id": "3977223a",
      "metadata": {
        "id": "3977223a"
      },
      "outputs": [],
      "source": [
        "# Création d'un modèle séquentiel\n",
        "model = Sequential()\n",
        "\n",
        "# Première couche de convolution avec 128 filtres, taille de noyau 3x3, fonction d'activation ReLU\n",
        "model.add(Conv2D(128, kernel_size=(3,3), activation='relu', input_shape=(48,48,1)))\n",
        "model.add(MaxPooling2D(pool_size=(2,2)))\n",
        "model.add(Dropout(0.4))\n",
        "\n",
        "# Deuxième couche de convolution avec 256 filtres, taille de noyau 3x3, fonction d'activation ReLU\n",
        "model.add(Conv2D(256, kernel_size=(3,3), activation='relu'))\n",
        "model.add(MaxPooling2D(pool_size=(2,2)))\n",
        "model.add(Dropout(0.4))\n",
        "\n",
        "# Troisième couche de convolution avec 512 filtres, taille de noyau 3x3, fonction d'activation ReLU\n",
        "model.add(Conv2D(512, kernel_size=(3,3), activation='relu'))\n",
        "model.add(MaxPooling2D(pool_size=(2,2)))\n",
        "model.add(Dropout(0.4))\n",
        "\n",
        "# Quatrième couche de convolution avec 512 filtres, taille de noyau 3x3, fonction d'activation ReLU\n",
        "model.add(Conv2D(512, kernel_size=(3,3), activation='relu'))\n",
        "model.add(MaxPooling2D(pool_size=(2,2)))\n",
        "model.add(Dropout(0.4))\n",
        "\n",
        "# Aplatir les données pour les couches entièrement connectées\n",
        "model.add(Flatten())\n",
        "\n",
        "# Première couche entièrement connectée avec 512 neurones, fonction d'activation ReLU\n",
        "model.add(Dense(512, activation='relu'))\n",
        "model.add(Dropout(0.4))\n",
        "\n",
        "# Deuxième couche entièrement connectée avec 256 neurones, fonction d'activation ReLU\n",
        "model.add(Dense(256, activation='relu'))\n",
        "model.add(Dropout(0.3))\n",
        "\n",
        "# Couche de sortie avec 7 neurones pour les 7 classes, fonction d'activation softmax\n",
        "model.add(Dense(7, activation='softmax'))\n"
      ]
    },
    {
      "cell_type": "markdown",
      "source": [
        "# **11.Compilation du modèle**"
      ],
      "metadata": {
        "id": "VvSD5n1yv0AU"
      },
      "id": "VvSD5n1yv0AU"
    },
    {
      "cell_type": "code",
      "execution_count": null,
      "id": "de986d6e",
      "metadata": {
        "id": "de986d6e"
      },
      "outputs": [],
      "source": [
        "# Compilation du modèle avec l'optimiseur Adam\n",
        "# La fonction de perte est categorical_crossentropy\n",
        "# La métrique utilisée pour évaluer le modèle est l'accuracy\n",
        "model.compile(optimizer='adam', loss='categorical_crossentropy', metrics=['accuracy'])\n"
      ]
    },
    {
      "cell_type": "markdown",
      "source": [
        "# **12.Entrainement du modèle**"
      ],
      "metadata": {
        "id": "O-OTSXmNv2a3"
      },
      "id": "O-OTSXmNv2a3"
    },
    {
      "cell_type": "code",
      "execution_count": null,
      "id": "5cd0b130",
      "metadata": {
        "id": "5cd0b130",
        "colab": {
          "base_uri": "https://localhost:8080/"
        },
        "outputId": "3728187d-6dcc-447d-f503-4707a12586cf"
      },
      "outputs": [
        {
          "output_type": "stream",
          "name": "stdout",
          "text": [
            "Epoch 1/40\n",
            "226/226 [==============================] - 79s 343ms/step - loss: 1.8231 - accuracy: 0.2434 - val_loss: 1.8209 - val_accuracy: 0.2583\n",
            "Epoch 2/40\n",
            "226/226 [==============================] - 76s 338ms/step - loss: 1.8025 - accuracy: 0.2495 - val_loss: 1.7725 - val_accuracy: 0.2584\n",
            "Epoch 3/40\n",
            "226/226 [==============================] - 76s 338ms/step - loss: 1.7370 - accuracy: 0.2830 - val_loss: 1.7106 - val_accuracy: 0.3177\n",
            "Epoch 4/40\n",
            "226/226 [==============================] - 76s 338ms/step - loss: 1.6270 - accuracy: 0.3497 - val_loss: 1.4567 - val_accuracy: 0.4391\n",
            "Epoch 5/40\n",
            "226/226 [==============================] - 76s 336ms/step - loss: 1.5081 - accuracy: 0.4100 - val_loss: 1.3743 - val_accuracy: 0.4718\n",
            "Epoch 6/40\n",
            "226/226 [==============================] - 75s 334ms/step - loss: 1.4441 - accuracy: 0.4412 - val_loss: 1.3099 - val_accuracy: 0.4987\n",
            "Epoch 7/40\n",
            "226/226 [==============================] - 76s 334ms/step - loss: 1.4012 - accuracy: 0.4620 - val_loss: 1.2896 - val_accuracy: 0.5072\n",
            "Epoch 8/40\n",
            "226/226 [==============================] - 76s 336ms/step - loss: 1.3681 - accuracy: 0.4758 - val_loss: 1.2564 - val_accuracy: 0.5130\n",
            "Epoch 9/40\n",
            "226/226 [==============================] - 76s 337ms/step - loss: 1.3387 - accuracy: 0.4866 - val_loss: 1.2290 - val_accuracy: 0.5209\n",
            "Epoch 10/40\n",
            "226/226 [==============================] - 76s 335ms/step - loss: 1.3124 - accuracy: 0.4952 - val_loss: 1.2101 - val_accuracy: 0.5417\n",
            "Epoch 11/40\n",
            "226/226 [==============================] - 76s 336ms/step - loss: 1.2912 - accuracy: 0.5067 - val_loss: 1.2067 - val_accuracy: 0.5474\n",
            "Epoch 12/40\n",
            "226/226 [==============================] - 76s 336ms/step - loss: 1.2755 - accuracy: 0.5100 - val_loss: 1.1864 - val_accuracy: 0.5502\n",
            "Epoch 13/40\n",
            "226/226 [==============================] - 76s 336ms/step - loss: 1.2597 - accuracy: 0.5190 - val_loss: 1.1655 - val_accuracy: 0.5553\n",
            "Epoch 14/40\n",
            "226/226 [==============================] - 76s 335ms/step - loss: 1.2365 - accuracy: 0.5283 - val_loss: 1.1485 - val_accuracy: 0.5669\n",
            "Epoch 15/40\n",
            "226/226 [==============================] - 76s 336ms/step - loss: 1.2252 - accuracy: 0.5318 - val_loss: 1.1319 - val_accuracy: 0.5756\n",
            "Epoch 16/40\n",
            "226/226 [==============================] - 76s 335ms/step - loss: 1.2097 - accuracy: 0.5439 - val_loss: 1.1387 - val_accuracy: 0.5749\n",
            "Epoch 17/40\n",
            "226/226 [==============================] - 76s 335ms/step - loss: 1.2005 - accuracy: 0.5454 - val_loss: 1.1421 - val_accuracy: 0.5685\n",
            "Epoch 18/40\n",
            "226/226 [==============================] - 76s 335ms/step - loss: 1.1877 - accuracy: 0.5499 - val_loss: 1.1158 - val_accuracy: 0.5791\n",
            "Epoch 19/40\n",
            "226/226 [==============================] - 76s 336ms/step - loss: 1.1713 - accuracy: 0.5570 - val_loss: 1.1075 - val_accuracy: 0.5829\n",
            "Epoch 20/40\n",
            "226/226 [==============================] - 76s 335ms/step - loss: 1.1637 - accuracy: 0.5626 - val_loss: 1.1195 - val_accuracy: 0.5761\n",
            "Epoch 21/40\n",
            "226/226 [==============================] - 76s 334ms/step - loss: 1.1544 - accuracy: 0.5649 - val_loss: 1.1126 - val_accuracy: 0.5828\n",
            "Epoch 22/40\n",
            "226/226 [==============================] - 76s 335ms/step - loss: 1.1412 - accuracy: 0.5684 - val_loss: 1.1000 - val_accuracy: 0.5866\n",
            "Epoch 23/40\n",
            "226/226 [==============================] - 76s 336ms/step - loss: 1.1388 - accuracy: 0.5688 - val_loss: 1.0861 - val_accuracy: 0.5894\n",
            "Epoch 24/40\n",
            "226/226 [==============================] - 76s 335ms/step - loss: 1.1303 - accuracy: 0.5725 - val_loss: 1.0892 - val_accuracy: 0.5935\n",
            "Epoch 25/40\n",
            "226/226 [==============================] - 76s 338ms/step - loss: 1.1172 - accuracy: 0.5765 - val_loss: 1.0841 - val_accuracy: 0.5965\n",
            "Epoch 26/40\n",
            "226/226 [==============================] - 76s 336ms/step - loss: 1.1120 - accuracy: 0.5812 - val_loss: 1.0847 - val_accuracy: 0.5945\n",
            "Epoch 27/40\n",
            "226/226 [==============================] - 77s 342ms/step - loss: 1.1067 - accuracy: 0.5834 - val_loss: 1.0774 - val_accuracy: 0.6012\n",
            "Epoch 28/40\n",
            "226/226 [==============================] - 77s 340ms/step - loss: 1.0913 - accuracy: 0.5898 - val_loss: 1.0673 - val_accuracy: 0.6049\n",
            "Epoch 29/40\n",
            "226/226 [==============================] - 77s 339ms/step - loss: 1.0814 - accuracy: 0.5921 - val_loss: 1.0783 - val_accuracy: 0.5930\n",
            "Epoch 30/40\n",
            "226/226 [==============================] - 76s 338ms/step - loss: 1.0851 - accuracy: 0.5879 - val_loss: 1.0746 - val_accuracy: 0.6026\n",
            "Epoch 31/40\n",
            "226/226 [==============================] - 77s 340ms/step - loss: 1.0699 - accuracy: 0.5983 - val_loss: 1.0609 - val_accuracy: 0.6063\n",
            "Epoch 32/40\n",
            "226/226 [==============================] - 77s 340ms/step - loss: 1.0664 - accuracy: 0.5984 - val_loss: 1.0566 - val_accuracy: 0.6025\n",
            "Epoch 33/40\n",
            "226/226 [==============================] - 77s 340ms/step - loss: 1.0504 - accuracy: 0.6064 - val_loss: 1.0541 - val_accuracy: 0.6077\n",
            "Epoch 34/40\n",
            "226/226 [==============================] - 76s 338ms/step - loss: 1.0540 - accuracy: 0.6033 - val_loss: 1.0560 - val_accuracy: 0.5999\n",
            "Epoch 35/40\n",
            "226/226 [==============================] - 76s 338ms/step - loss: 1.0495 - accuracy: 0.6044 - val_loss: 1.0483 - val_accuracy: 0.6060\n",
            "Epoch 36/40\n",
            "226/226 [==============================] - 77s 340ms/step - loss: 1.0402 - accuracy: 0.6060 - val_loss: 1.0575 - val_accuracy: 0.6047\n",
            "Epoch 37/40\n",
            "226/226 [==============================] - 77s 340ms/step - loss: 1.0379 - accuracy: 0.6107 - val_loss: 1.0599 - val_accuracy: 0.6015\n",
            "Epoch 38/40\n",
            "226/226 [==============================] - 76s 337ms/step - loss: 1.0349 - accuracy: 0.6133 - val_loss: 1.0514 - val_accuracy: 0.6076\n",
            "Epoch 39/40\n",
            "226/226 [==============================] - 76s 337ms/step - loss: 1.0206 - accuracy: 0.6157 - val_loss: 1.0363 - val_accuracy: 0.6110\n",
            "Epoch 40/40\n",
            "226/226 [==============================] - 76s 338ms/step - loss: 1.0153 - accuracy: 0.6161 - val_loss: 1.0487 - val_accuracy: 0.6102\n"
          ]
        }
      ],
      "source": [
        "# Entraînement du modèle sur les données d'entraînement avec un batch_size de 128 et 40 époques\n",
        "# Les données de validation sont fournies pour évaluer le modèle pendant l'entraînement\n",
        "history = model.fit(x=x_train, y=y_train, batch_size=128, epochs=40, validation_data=(x_test, y_test))\n"
      ]
    },
    {
      "cell_type": "markdown",
      "source": [
        "# **13.Sauvegarde du modèle**"
      ],
      "metadata": {
        "id": "OhbSQEUwwHK4"
      },
      "id": "OhbSQEUwwHK4"
    },
    {
      "cell_type": "code",
      "execution_count": null,
      "id": "2b0f1923",
      "metadata": {
        "id": "2b0f1923",
        "colab": {
          "base_uri": "https://localhost:8080/"
        },
        "outputId": "cc7a721b-f163-4194-f139-34816e0a5cb4"
      },
      "outputs": [
        {
          "output_type": "stream",
          "name": "stderr",
          "text": [
            "/usr/local/lib/python3.10/dist-packages/keras/src/engine/training.py:3103: UserWarning: You are saving your model as an HDF5 file via `model.save()`. This file format is considered legacy. We recommend using instead the native Keras format, e.g. `model.save('my_model.keras')`.\n",
            "  saving_api.save_model(\n"
          ]
        }
      ],
      "source": [
        "# Convertir l'architecture du modèle en format JSON\n",
        "model_json = model.to_json()\n",
        "\n",
        "# Écrire l'architecture du modèle JSON dans un fichier\n",
        "with open(\"emotiondetector_40_epochs.json\", 'w') as json_file:\n",
        "    json_file.write(model_json)\n",
        "\n",
        "# Sauvegarder les poids du modèle dans un fichier h5\n",
        "model.save(\"emotiondetector_40_epochs.h5\")\n"
      ]
    },
    {
      "cell_type": "code",
      "execution_count": null,
      "id": "90703547",
      "metadata": {
        "id": "90703547"
      },
      "outputs": [],
      "source": [
        "# Ouvrir le fichier JSON contenant l'architecture du modèle en mode lecture\n",
        "json_file = open(\"emotiondetector_40_epochs.json\", \"r\")\n",
        "\n",
        "# Lire le contenu du fichier JSON\n",
        "model_json = json_file.read()\n",
        "\n",
        "# Fermer le fichier JSON après lecture\n",
        "json_file.close()\n",
        "\n",
        "# Charger l'architecture du modèle à partir du JSON\n",
        "model = model_from_json(model_json)\n",
        "\n",
        "# Charger les poids du modèle à partir du fichier h5\n",
        "model.load_weights(\"emotiondetector_40_epochs.h5\")\n"
      ]
    },
    {
      "cell_type": "code",
      "execution_count": null,
      "id": "3932bbe8",
      "metadata": {
        "id": "3932bbe8"
      },
      "outputs": [],
      "source": [
        "# Liste des noms d'émotions correspondant aux classes prédites par le modèle\n",
        "label = ['angry', 'disgust', 'fear', 'happy', 'neutral', 'sad', 'surprise']\n"
      ]
    },
    {
      "cell_type": "code",
      "execution_count": null,
      "id": "b0ccbacf",
      "metadata": {
        "id": "b0ccbacf"
      },
      "outputs": [],
      "source": [
        "# Définition de la fonction pour extraire les caractéristiques d'une image ef = extract features\n",
        "def ef(image):\n",
        "    # Charger l'image en niveaux de gris\n",
        "    img = load_img(image, grayscale=True)\n",
        "\n",
        "    # Convertir l'image en tableau NumPy\n",
        "    feature = np.array(img)\n",
        "\n",
        "    # Redimensionner le tableau pour correspondre à la forme attendue par le modèle (1, 48, 48, 1)\n",
        "    feature = feature.reshape(1, 48, 48, 1)\n",
        "\n",
        "    # Normaliser les caractéristiques en divisant par 255.0 pour mettre les valeurs des pixels dans la plage [0,1]\n",
        "    return feature / 255.0\n"
      ]
    },
    {
      "cell_type": "code",
      "source": [],
      "metadata": {
        "id": "Lbdxz3gsw2aM"
      },
      "id": "Lbdxz3gsw2aM",
      "execution_count": null,
      "outputs": []
    },
    {
      "cell_type": "markdown",
      "source": [
        "# **14.Utilisation du modèle pour prédire l'émotion d'une image spécifique**"
      ],
      "metadata": {
        "id": "eUPXI4l1woNv"
      },
      "id": "eUPXI4l1woNv"
    },
    {
      "cell_type": "code",
      "execution_count": null,
      "id": "5882c78e",
      "metadata": {
        "id": "5882c78e",
        "colab": {
          "base_uri": "https://localhost:8080/"
        },
        "outputId": "b05d5a97-9cf1-4dbb-b0a9-49e2068761d6"
      },
      "outputs": [
        {
          "output_type": "stream",
          "name": "stdout",
          "text": [
            "L'image originale est de type fear\n",
            "1/1 [==============================] - 0s 126ms/step\n",
            "La prédiction du modèle est : fear\n"
          ]
        },
        {
          "output_type": "stream",
          "name": "stderr",
          "text": [
            "/usr/local/lib/python3.10/dist-packages/keras_preprocessing/image/utils.py:107: UserWarning: grayscale is deprecated. Please use color_mode = \"grayscale\"\n",
            "  warnings.warn('grayscale is deprecated. Please use '\n"
          ]
        }
      ],
      "source": [
        "# Chemin de l'image à tester\n",
        "image = '/content/images/train/fear/10047.jpg'\n",
        "\n",
        "# Affichage de l'émotion originale de l'image (dans ce cas, c'est 'fear')\n",
        "print(\"L'image originale est de type fear\")\n",
        "\n",
        "# Utilisation de la fonction ef pour extraire les caractéristiques de l'image\n",
        "img = ef(image)\n",
        "\n",
        "# Prédiction de l'émotion de l'image à l'aide du modèle\n",
        "pred = model.predict(img)\n",
        "\n",
        "# Récupération de l'indice de la classe prédite avec la plus haute probabilité\n",
        "pred_label = label[pred.argmax()]\n",
        "\n",
        "# Affichage de la prédiction du modèle\n",
        "print(\"La prédiction du modèle est :\", pred_label)\n"
      ]
    },
    {
      "cell_type": "code",
      "execution_count": null,
      "id": "8994206c",
      "metadata": {
        "id": "8994206c"
      },
      "outputs": [],
      "source": [
        "%matplotlib inline"
      ]
    },
    {
      "cell_type": "code",
      "execution_count": null,
      "id": "c83af9e1",
      "metadata": {
        "id": "c83af9e1",
        "colab": {
          "base_uri": "https://localhost:8080/"
        },
        "outputId": "b59ea6dc-d3ae-4e71-817f-95c3f921b24e"
      },
      "outputs": [
        {
          "output_type": "stream",
          "name": "stdout",
          "text": [
            "original image is of fear\n",
            "1/1 [==============================] - 0s 26ms/step\n",
            "model prediction is  fear\n"
          ]
        },
        {
          "output_type": "execute_result",
          "data": {
            "text/plain": [
              "<matplotlib.image.AxesImage at 0x7f12b441bb80>"
            ]
          },
          "metadata": {},
          "execution_count": 48
        },
        {
          "output_type": "display_data",
          "data": {
            "text/plain": [
              "<Figure size 640x480 with 1 Axes>"
            ],
            "image/png": "[encoded data removed]"
          },
          "metadata": {}
        }
      ],
      "source": [
        "image = '/content/images/train/fear/10047.jpg'\n",
        "print(\"original image is of fear\")\n",
        "img = ef(image)\n",
        "pred = model.predict(img)\n",
        "pred_label = label[pred.argmax()]\n",
        "print(\"model prediction is \",pred_label)\n",
        "plt.imshow(img.reshape(48,48),cmap='gray')"
      ]
    },
    {
      "cell_type": "code",
      "execution_count": null,
      "id": "e5ea96ba",
      "metadata": {
        "id": "e5ea96ba",
        "colab": {
          "base_uri": "https://localhost:8080/"
        },
        "outputId": "6153771e-e83d-4d4f-b4ab-b601e2d4669b"
      },
      "outputs": [
        {
          "output_type": "stream",
          "name": "stdout",
          "text": [
            "original image is of disgust\n",
            "1/1 [==============================] - 0s 26ms/step\n",
            "model prediction is  angry\n"
          ]
        },
        {
          "output_type": "execute_result",
          "data": {
            "text/plain": [
              "<matplotlib.image.AxesImage at 0x7f1024392800>"
            ]
          },
          "metadata": {},
          "execution_count": 49
        },
        {
          "output_type": "display_data",
          "data": {
            "text/plain": [
              "<Figure size 640x480 with 1 Axes>"
            ],
            "image/png": "[encoded data removed]"
          },
          "metadata": {}
        }
      ],
      "source": [
        "image = '/content/images/train/disgust/10137.jpg'\n",
        "print(\"original image is of disgust\")\n",
        "img = ef(image)\n",
        "pred = model.predict(img)\n",
        "pred_label = label[pred.argmax()]\n",
        "print(\"model prediction is \",pred_label)\n",
        "plt.imshow(img.reshape(48,48),cmap='gray')"
      ]
    },
    {
      "cell_type": "code",
      "execution_count": null,
      "id": "1c4befa7",
      "metadata": {
        "id": "1c4befa7",
        "colab": {
          "base_uri": "https://localhost:8080/"
        },
        "outputId": "109cd058-b3da-4da7-ae23-bbd3888ca43c"
      },
      "outputs": [
        {
          "output_type": "stream",
          "name": "stdout",
          "text": [
            "original image is of happy\n",
            "1/1 [==============================] - 0s 27ms/step\n",
            "model prediction is  happy\n"
          ]
        },
        {
          "output_type": "execute_result",
          "data": {
            "text/plain": [
              "<matplotlib.image.AxesImage at 0x7f12b445a080>"
            ]
          },
          "metadata": {},
          "execution_count": 50
        },
        {
          "output_type": "display_data",
          "data": {
            "text/plain": [
              "<Figure size 640x480 with 1 Axes>"
            ],
            "image/png": "[encoded data removed]"
          },
          "metadata": {}
        }
      ],
      "source": [
        "image = '/content/images/train/happy/10418.jpg'\n",
        "print(\"original image is of happy\")\n",
        "img = ef(image)\n",
        "pred = model.predict(img)\n",
        "pred_label = label[pred.argmax()]\n",
        "print(\"model prediction is \",pred_label)\n",
        "plt.imshow(img.reshape(48,48),cmap='gray')"
      ]
    },
    {
      "cell_type": "code",
      "execution_count": null,
      "id": "8d6bb2fa",
      "metadata": {
        "id": "8d6bb2fa",
        "colab": {
          "base_uri": "https://localhost:8080/"
        },
        "outputId": "73ccb659-5a80-4049-d6c9-d16f30e2a9e6"
      },
      "outputs": [
        {
          "output_type": "stream",
          "name": "stdout",
          "text": [
            "original image is of surprise\n",
            "1/1 [==============================] - 0s 27ms/step\n",
            "model prediction is  surprise\n"
          ]
        },
        {
          "output_type": "execute_result",
          "data": {
            "text/plain": [
              "<matplotlib.image.AxesImage at 0x7f12b41dd300>"
            ]
          },
          "metadata": {},
          "execution_count": 51
        },
        {
          "output_type": "display_data",
          "data": {
            "text/plain": [
              "<Figure size 640x480 with 1 Axes>"
            ],
            "image/png": "[encoded data removed]"
          },
          "metadata": {}
        }
      ],
      "source": [
        "image = 'images/train/surprise/15.jpg'\n",
        "print(\"original image is of surprise\")\n",
        "img = ef(image)\n",
        "pred = model.predict(img)\n",
        "pred_label = label[pred.argmax()]\n",
        "print(\"model prediction is \",pred_label)\n",
        "plt.imshow(img.reshape(48,48),cmap='gray')"
      ]
    },
    {
      "cell_type": "markdown",
      "source": [
        "# **15.Extraire les données de l'historique**"
      ],
      "metadata": {
        "id": "Cji_14kJwAK3"
      },
      "id": "Cji_14kJwAK3"
    },
    {
      "cell_type": "code",
      "execution_count": null,
      "id": "PTfBUIH-oxLq",
      "metadata": {
        "id": "PTfBUIH-oxLq",
        "colab": {
          "base_uri": "https://localhost:8080/"
        },
        "outputId": "c09f758d-7841-45ad-8889-507f06da067f"
      },
      "outputs": [
        {
          "output_type": "display_data",
          "data": {
            "text/plain": [
              "<Figure size 1200x500 with 2 Axes>"
            ],
            "image/png": "[encoded data removed]"
          },
          "metadata": {}
        }
      ],
      "source": [
        "# Extraire les données de l'historique\n",
        "train_loss = history.history['loss']\n",
        "val_loss = history.history['val_loss']\n",
        "train_accuracy = history.history['accuracy']\n",
        "val_accuracy = history.history['val_accuracy']\n",
        "\n",
        "# Créer les graphiques\n",
        "epochs = range(1, len(train_loss) + 1)\n",
        "\n",
        "# Tracer la courbe de perte\n",
        "plt.figure(figsize=(12, 5))\n",
        "plt.subplot(1, 2, 1)\n",
        "plt.plot(epochs, train_loss, 'b', label='Perte Entraînement')\n",
        "plt.plot(epochs, val_loss, 'r', label='Perte Validation')\n",
        "plt.title('Courbe de Perte')\n",
        "plt.xlabel('Époques')\n",
        "plt.ylabel('Perte')\n",
        "plt.legend()\n",
        "\n",
        "# Tracer la courbe de précision\n",
        "plt.subplot(1, 2, 2)\n",
        "plt.plot(epochs, train_accuracy, 'b', label='Précision Entraînement')\n",
        "plt.plot(epochs, val_accuracy, 'r', label='Précision Validation')\n",
        "plt.title('Courbe de Précision')\n",
        "plt.xlabel('Époques')\n",
        "plt.ylabel('Précision')\n",
        "plt.legend()\n",
        "\n",
        "plt.show()"
      ]
    }
  ],
  "metadata": {
    "accelerator": "TPU",
    "colab": {
      "gpuType": "V28",
      "provenance": [],
      "collapsed_sections": [
        "c68-VjiZsEaH",
        "nF77eznts9bs",
        "oCF4B9Abt2uV",
        "rzapEeMRuYjy",
        "rkoxIiQ7ukRI",
        "6hTWvEcXurre",
        "7OebhahWu8QC",
        "DZ5wKeALvEdT",
        "myI1_2Wavhi8",
        "QExUzGk1vr3B",
        "VvSD5n1yv0AU",
        "O-OTSXmNv2a3",
        "OhbSQEUwwHK4",
        "eUPXI4l1woNv",
        "Cji_14kJwAK3"
      ]
    },
    "kernelspec": {
      "display_name": "Python 3",
      "name": "python3"
    },
    "language_info": {
      "codemirror_mode": {
        "name": "ipython",
        "version": 3
      },
      "file_extension": ".py",
      "mimetype": "text/x-python",
      "name": "python",
      "nbconvert_exporter": "python",
      "pygments_lexer": "ipython3",
      "version": "3.10.7"
    },
    "widgets": {
      "application/vnd.jupyter.widget-state+json": {
        "84c0cc07c4af45f2b17eceedfc288c69": {
          "model_module": "@jupyter-widgets/controls",
          "model_name": "HBoxModel",
          "model_module_version": "1.5.0",
          "state": {
            "_dom_classes": [],
            "_model_module": "@jupyter-widgets/controls",
            "_model_module_version": "1.5.0",
            "_model_name": "HBoxModel",
            "_view_count": null,
            "_view_module": "@jupyter-widgets/controls",
            "_view_module_version": "1.5.0",
            "_view_name": "HBoxView",
            "box_style": "",
            "children": [
              "IPY_MODEL_4cb99831715e4e5fa8dbd82478b2546f",
              "IPY_MODEL_d54c6a1b64b24b669929507871a0d510",
              "IPY_MODEL_5a76c213bd8f4433b6498538d83d7fc9"
            ],
            "layout": "IPY_MODEL_8bb644aa86c248a4964764dfd9887fca"
          }
        },
        "4cb99831715e4e5fa8dbd82478b2546f": {
          "model_module": "@jupyter-widgets/controls",
          "model_name": "HTMLModel",
          "model_module_version": "1.5.0",
          "state": {
            "_dom_classes": [],
            "_model_module": "@jupyter-widgets/controls",
            "_model_module_version": "1.5.0",
            "_model_name": "HTMLModel",
            "_view_count": null,
            "_view_module": "@jupyter-widgets/controls",
            "_view_module_version": "1.5.0",
            "_view_name": "HTMLView",
            "description": "",
            "description_tooltip": null,
            "layout": "IPY_MODEL_8818f78fe70d4a05aa77dcd74d1778b2",
            "placeholder": "​",
            "style": "IPY_MODEL_18d5f6a6b54e4e6da17552cd815fdca7",
            "value": "100%"
          }
        },
        "d54c6a1b64b24b669929507871a0d510": {
          "model_module": "@jupyter-widgets/controls",
          "model_name": "FloatProgressModel",
          "model_module_version": "1.5.0",
          "state": {
            "_dom_classes": [],
            "_model_module": "@jupyter-widgets/controls",
            "_model_module_version": "1.5.0",
            "_model_name": "FloatProgressModel",
            "_view_count": null,
            "_view_module": "@jupyter-widgets/controls",
            "_view_module_version": "1.5.0",
            "_view_name": "ProgressView",
            "bar_style": "success",
            "description": "",
            "description_tooltip": null,
            "layout": "IPY_MODEL_ffdb91dde2574fdba36d9fe55a7861ac",
            "max": 28821,
            "min": 0,
            "orientation": "horizontal",
            "style": "IPY_MODEL_3925654da79249739635a638f800cfda",
            "value": 28821
          }
        },
        "5a76c213bd8f4433b6498538d83d7fc9": {
          "model_module": "@jupyter-widgets/controls",
          "model_name": "HTMLModel",
          "model_module_version": "1.5.0",
          "state": {
            "_dom_classes": [],
            "_model_module": "@jupyter-widgets/controls",
            "_model_module_version": "1.5.0",
            "_model_name": "HTMLModel",
            "_view_count": null,
            "_view_module": "@jupyter-widgets/controls",
            "_view_module_version": "1.5.0",
            "_view_name": "HTMLView",
            "description": "",
            "description_tooltip": null,
            "layout": "IPY_MODEL_22f79d32c08f49ecbbc1bc90cb9245f2",
            "placeholder": "​",
            "style": "IPY_MODEL_4392591d782a4cd28ff1b8067f35c835",
            "value": " 28821/28821 [00:03&lt;00:00, 7848.43it/s]"
          }
        },
        "8bb644aa86c248a4964764dfd9887fca": {
          "model_module": "@jupyter-widgets/base",
          "model_name": "LayoutModel",
          "model_module_version": "1.2.0",
          "state": {
            "_model_module": "@jupyter-widgets/base",
            "_model_module_version": "1.2.0",
            "_model_name": "LayoutModel",
            "_view_count": null,
            "_view_module": "@jupyter-widgets/base",
            "_view_module_version": "1.2.0",
            "_view_name": "LayoutView",
            "align_content": null,
            "align_items": null,
            "align_self": null,
            "border": null,
            "bottom": null,
            "display": null,
            "flex": null,
            "flex_flow": null,
            "grid_area": null,
            "grid_auto_columns": null,
            "grid_auto_flow": null,
            "grid_auto_rows": null,
            "grid_column": null,
            "grid_gap": null,
            "grid_row": null,
            "grid_template_areas": null,
            "grid_template_columns": null,
            "grid_template_rows": null,
            "height": null,
            "justify_content": null,
            "justify_items": null,
            "left": null,
            "margin": null,
            "max_height": null,
            "max_width": null,
            "min_height": null,
            "min_width": null,
            "object_fit": null,
            "object_position": null,
            "order": null,
            "overflow": null,
            "overflow_x": null,
            "overflow_y": null,
            "padding": null,
            "right": null,
            "top": null,
            "visibility": null,
            "width": null
          }
        },
        "8818f78fe70d4a05aa77dcd74d1778b2": {
          "model_module": "@jupyter-widgets/base",
          "model_name": "LayoutModel",
          "model_module_version": "1.2.0",
          "state": {
            "_model_module": "@jupyter-widgets/base",
            "_model_module_version": "1.2.0",
            "_model_name": "LayoutModel",
            "_view_count": null,
            "_view_module": "@jupyter-widgets/base",
            "_view_module_version": "1.2.0",
            "_view_name": "LayoutView",
            "align_content": null,
            "align_items": null,
            "align_self": null,
            "border": null,
            "bottom": null,
            "display": null,
            "flex": null,
            "flex_flow": null,
            "grid_area": null,
            "grid_auto_columns": null,
            "grid_auto_flow": null,
            "grid_auto_rows": null,
            "grid_column": null,
            "grid_gap": null,
            "grid_row": null,
            "grid_template_areas": null,
            "grid_template_columns": null,
            "grid_template_rows": null,
            "height": null,
            "justify_content": null,
            "justify_items": null,
            "left": null,
            "margin": null,
            "max_height": null,
            "max_width": null,
            "min_height": null,
            "min_width": null,
            "object_fit": null,
            "object_position": null,
            "order": null,
            "overflow": null,
            "overflow_x": null,
            "overflow_y": null,
            "padding": null,
            "right": null,
            "top": null,
            "visibility": null,
            "width": null
          }
        },
        "18d5f6a6b54e4e6da17552cd815fdca7": {
          "model_module": "@jupyter-widgets/controls",
          "model_name": "DescriptionStyleModel",
          "model_module_version": "1.5.0",
          "state": {
            "_model_module": "@jupyter-widgets/controls",
            "_model_module_version": "1.5.0",
            "_model_name": "DescriptionStyleModel",
            "_view_count": null,
            "_view_module": "@jupyter-widgets/base",
            "_view_module_version": "1.2.0",
            "_view_name": "StyleView",
            "description_width": ""
          }
        },
        "ffdb91dde2574fdba36d9fe55a7861ac": {
          "model_module": "@jupyter-widgets/base",
          "model_name": "LayoutModel",
          "model_module_version": "1.2.0",
          "state": {
            "_model_module": "@jupyter-widgets/base",
            "_model_module_version": "1.2.0",
            "_model_name": "LayoutModel",
            "_view_count": null,
            "_view_module": "@jupyter-widgets/base",
            "_view_module_version": "1.2.0",
            "_view_name": "LayoutView",
            "align_content": null,
            "align_items": null,
            "align_self": null,
            "border": null,
            "bottom": null,
            "display": null,
            "flex": null,
            "flex_flow": null,
            "grid_area": null,
            "grid_auto_columns": null,
            "grid_auto_flow": null,
            "grid_auto_rows": null,
            "grid_column": null,
            "grid_gap": null,
            "grid_row": null,
            "grid_template_areas": null,
            "grid_template_columns": null,
            "grid_template_rows": null,
            "height": null,
            "justify_content": null,
            "justify_items": null,
            "left": null,
            "margin": null,
            "max_height": null,
            "max_width": null,
            "min_height": null,
            "min_width": null,
            "object_fit": null,
            "object_position": null,
            "order": null,
            "overflow": null,
            "overflow_x": null,
            "overflow_y": null,
            "padding": null,
            "right": null,
            "top": null,
            "visibility": null,
            "width": null
          }
        },
        "3925654da79249739635a638f800cfda": {
          "model_module": "@jupyter-widgets/controls",
          "model_name": "ProgressStyleModel",
          "model_module_version": "1.5.0",
          "state": {
            "_model_module": "@jupyter-widgets/controls",
            "_model_module_version": "1.5.0",
            "_model_name": "ProgressStyleModel",
            "_view_count": null,
            "_view_module": "@jupyter-widgets/base",
            "_view_module_version": "1.2.0",
            "_view_name": "StyleView",
            "bar_color": null,
            "description_width": ""
          }
        },
        "22f79d32c08f49ecbbc1bc90cb9245f2": {
          "model_module": "@jupyter-widgets/base",
          "model_name": "LayoutModel",
          "model_module_version": "1.2.0",
          "state": {
            "_model_module": "@jupyter-widgets/base",
            "_model_module_version": "1.2.0",
            "_model_name": "LayoutModel",
            "_view_count": null,
            "_view_module": "@jupyter-widgets/base",
            "_view_module_version": "1.2.0",
            "_view_name": "LayoutView",
            "align_content": null,
            "align_items": null,
            "align_self": null,
            "border": null,
            "bottom": null,
            "display": null,
            "flex": null,
            "flex_flow": null,
            "grid_area": null,
            "grid_auto_columns": null,
            "grid_auto_flow": null,
            "grid_auto_rows": null,
            "grid_column": null,
            "grid_gap": null,
            "grid_row": null,
            "grid_template_areas": null,
            "grid_template_columns": null,
            "grid_template_rows": null,
            "height": null,
            "justify_content": null,
            "justify_items": null,
            "left": null,
            "margin": null,
            "max_height": null,
            "max_width": null,
            "min_height": null,
            "min_width": null,
            "object_fit": null,
            "object_position": null,
            "order": null,
            "overflow": null,
            "overflow_x": null,
            "overflow_y": null,
            "padding": null,
            "right": null,
            "top": null,
            "visibility": null,
            "width": null
          }
        },
        "4392591d782a4cd28ff1b8067f35c835": {
          "model_module": "@jupyter-widgets/controls",
          "model_name": "DescriptionStyleModel",
          "model_module_version": "1.5.0",
          "state": {
            "_model_module": "@jupyter-widgets/controls",
            "_model_module_version": "1.5.0",
            "_model_name": "DescriptionStyleModel",
            "_view_count": null,
            "_view_module": "@jupyter-widgets/base",
            "_view_module_version": "1.2.0",
            "_view_name": "StyleView",
            "description_width": ""
          }
        },
        "b74d3ff14f0c4cbf9b9f4977e7639838": {
          "model_module": "@jupyter-widgets/controls",
          "model_name": "HBoxModel",
          "model_module_version": "1.5.0",
          "state": {
            "_dom_classes": [],
            "_model_module": "@jupyter-widgets/controls",
            "_model_module_version": "1.5.0",
            "_model_name": "HBoxModel",
            "_view_count": null,
            "_view_module": "@jupyter-widgets/controls",
            "_view_module_version": "1.5.0",
            "_view_name": "HBoxView",
            "box_style": "",
            "children": [
              "IPY_MODEL_c034f701024e40009f3f3865f75371e0",
              "IPY_MODEL_a7a2c9760d5e4bd99758dfbb2eaeba73",
              "IPY_MODEL_0e005ba8eb7f474e980e63d2966f74cd"
            ],
            "layout": "IPY_MODEL_7183d15baf1843e8bdffd5ebc36440e9"
          }
        },
        "c034f701024e40009f3f3865f75371e0": {
          "model_module": "@jupyter-widgets/controls",
          "model_name": "HTMLModel",
          "model_module_version": "1.5.0",
          "state": {
            "_dom_classes": [],
            "_model_module": "@jupyter-widgets/controls",
            "_model_module_version": "1.5.0",
            "_model_name": "HTMLModel",
            "_view_count": null,
            "_view_module": "@jupyter-widgets/controls",
            "_view_module_version": "1.5.0",
            "_view_name": "HTMLView",
            "description": "",
            "description_tooltip": null,
            "layout": "IPY_MODEL_cbcab4681e634725b25edac5d905e40a",
            "placeholder": "​",
            "style": "IPY_MODEL_bdad486f8f3b4681b2658cb02eb762b2",
            "value": "100%"
          }
        },
        "a7a2c9760d5e4bd99758dfbb2eaeba73": {
          "model_module": "@jupyter-widgets/controls",
          "model_name": "FloatProgressModel",
          "model_module_version": "1.5.0",
          "state": {
            "_dom_classes": [],
            "_model_module": "@jupyter-widgets/controls",
            "_model_module_version": "1.5.0",
            "_model_name": "FloatProgressModel",
            "_view_count": null,
            "_view_module": "@jupyter-widgets/controls",
            "_view_module_version": "1.5.0",
            "_view_name": "ProgressView",
            "bar_style": "success",
            "description": "",
            "description_tooltip": null,
            "layout": "IPY_MODEL_1f965aacfdb541cfb7375892e5d782f7",
            "max": 7066,
            "min": 0,
            "orientation": "horizontal",
            "style": "IPY_MODEL_74a0555d1c264bc58e1392259b90de62",
            "value": 7066
          }
        },
        "0e005ba8eb7f474e980e63d2966f74cd": {
          "model_module": "@jupyter-widgets/controls",
          "model_name": "HTMLModel",
          "model_module_version": "1.5.0",
          "state": {
            "_dom_classes": [],
            "_model_module": "@jupyter-widgets/controls",
            "_model_module_version": "1.5.0",
            "_model_name": "HTMLModel",
            "_view_count": null,
            "_view_module": "@jupyter-widgets/controls",
            "_view_module_version": "1.5.0",
            "_view_name": "HTMLView",
            "description": "",
            "description_tooltip": null,
            "layout": "IPY_MODEL_da05ca320d434e1d9ea39e4ce9728788",
            "placeholder": "​",
            "style": "IPY_MODEL_b1bdfb3d549042d9ae9e6308f69c7e1a",
            "value": " 7066/7066 [00:00&lt;00:00, 8129.43it/s]"
          }
        },
        "7183d15baf1843e8bdffd5ebc36440e9": {
          "model_module": "@jupyter-widgets/base",
          "model_name": "LayoutModel",
          "model_module_version": "1.2.0",
          "state": {
            "_model_module": "@jupyter-widgets/base",
            "_model_module_version": "1.2.0",
            "_model_name": "LayoutModel",
            "_view_count": null,
            "_view_module": "@jupyter-widgets/base",
            "_view_module_version": "1.2.0",
            "_view_name": "LayoutView",
            "align_content": null,
            "align_items": null,
            "align_self": null,
            "border": null,
            "bottom": null,
            "display": null,
            "flex": null,
            "flex_flow": null,
            "grid_area": null,
            "grid_auto_columns": null,
            "grid_auto_flow": null,
            "grid_auto_rows": null,
            "grid_column": null,
            "grid_gap": null,
            "grid_row": null,
            "grid_template_areas": null,
            "grid_template_columns": null,
            "grid_template_rows": null,
            "height": null,
            "justify_content": null,
            "justify_items": null,
            "left": null,
            "margin": null,
            "max_height": null,
            "max_width": null,
            "min_height": null,
            "min_width": null,
            "object_fit": null,
            "object_position": null,
            "order": null,
            "overflow": null,
            "overflow_x": null,
            "overflow_y": null,
            "padding": null,
            "right": null,
            "top": null,
            "visibility": null,
            "width": null
          }
        },
        "cbcab4681e634725b25edac5d905e40a": {
          "model_module": "@jupyter-widgets/base",
          "model_name": "LayoutModel",
          "model_module_version": "1.2.0",
          "state": {
            "_model_module": "@jupyter-widgets/base",
            "_model_module_version": "1.2.0",
            "_model_name": "LayoutModel",
            "_view_count": null,
            "_view_module": "@jupyter-widgets/base",
            "_view_module_version": "1.2.0",
            "_view_name": "LayoutView",
            "align_content": null,
            "align_items": null,
            "align_self": null,
            "border": null,
            "bottom": null,
            "display": null,
            "flex": null,
            "flex_flow": null,
            "grid_area": null,
            "grid_auto_columns": null,
            "grid_auto_flow": null,
            "grid_auto_rows": null,
            "grid_column": null,
            "grid_gap": null,
            "grid_row": null,
            "grid_template_areas": null,
            "grid_template_columns": null,
            "grid_template_rows": null,
            "height": null,
            "justify_content": null,
            "justify_items": null,
            "left": null,
            "margin": null,
            "max_height": null,
            "max_width": null,
            "min_height": null,
            "min_width": null,
            "object_fit": null,
            "object_position": null,
            "order": null,
            "overflow": null,
            "overflow_x": null,
            "overflow_y": null,
            "padding": null,
            "right": null,
            "top": null,
            "visibility": null,
            "width": null
          }
        },
        "bdad486f8f3b4681b2658cb02eb762b2": {
          "model_module": "@jupyter-widgets/controls",
          "model_name": "DescriptionStyleModel",
          "model_module_version": "1.5.0",
          "state": {
            "_model_module": "@jupyter-widgets/controls",
            "_model_module_version": "1.5.0",
            "_model_name": "DescriptionStyleModel",
            "_view_count": null,
            "_view_module": "@jupyter-widgets/base",
            "_view_module_version": "1.2.0",
            "_view_name": "StyleView",
            "description_width": ""
          }
        },
        "1f965aacfdb541cfb7375892e5d782f7": {
          "model_module": "@jupyter-widgets/base",
          "model_name": "LayoutModel",
          "model_module_version": "1.2.0",
          "state": {
            "_model_module": "@jupyter-widgets/base",
            "_model_module_version": "1.2.0",
            "_model_name": "LayoutModel",
            "_view_count": null,
            "_view_module": "@jupyter-widgets/base",
            "_view_module_version": "1.2.0",
            "_view_name": "LayoutView",
            "align_content": null,
            "align_items": null,
            "align_self": null,
            "border": null,
            "bottom": null,
            "display": null,
            "flex": null,
            "flex_flow": null,
            "grid_area": null,
            "grid_auto_columns": null,
            "grid_auto_flow": null,
            "grid_auto_rows": null,
            "grid_column": null,
            "grid_gap": null,
            "grid_row": null,
            "grid_template_areas": null,
            "grid_template_columns": null,
            "grid_template_rows": null,
            "height": null,
            "justify_content": null,
            "justify_items": null,
            "left": null,
            "margin": null,
            "max_height": null,
            "max_width": null,
            "min_height": null,
            "min_width": null,
            "object_fit": null,
            "object_position": null,
            "order": null,
            "overflow": null,
            "overflow_x": null,
            "overflow_y": null,
            "padding": null,
            "right": null,
            "top": null,
            "visibility": null,
            "width": null
          }
        },
        "74a0555d1c264bc58e1392259b90de62": {
          "model_module": "@jupyter-widgets/controls",
          "model_name": "ProgressStyleModel",
          "model_module_version": "1.5.0",
          "state": {
            "_model_module": "@jupyter-widgets/controls",
            "_model_module_version": "1.5.0",
            "_model_name": "ProgressStyleModel",
            "_view_count": null,
            "_view_module": "@jupyter-widgets/base",
            "_view_module_version": "1.2.0",
            "_view_name": "StyleView",
            "bar_color": null,
            "description_width": ""
          }
        },
        "da05ca320d434e1d9ea39e4ce9728788": {
          "model_module": "@jupyter-widgets/base",
          "model_name": "LayoutModel",
          "model_module_version": "1.2.0",
          "state": {
            "_model_module": "@jupyter-widgets/base",
            "_model_module_version": "1.2.0",
            "_model_name": "LayoutModel",
            "_view_count": null,
            "_view_module": "@jupyter-widgets/base",
            "_view_module_version": "1.2.0",
            "_view_name": "LayoutView",
            "align_content": null,
            "align_items": null,
            "align_self": null,
            "border": null,
            "bottom": null,
            "display": null,
            "flex": null,
            "flex_flow": null,
            "grid_area": null,
            "grid_auto_columns": null,
            "grid_auto_flow": null,
            "grid_auto_rows": null,
            "grid_column": null,
            "grid_gap": null,
            "grid_row": null,
            "grid_template_areas": null,
            "grid_template_columns": null,
            "grid_template_rows": null,
            "height": null,
            "justify_content": null,
            "justify_items": null,
            "left": null,
            "margin": null,
            "max_height": null,
            "max_width": null,
            "min_height": null,
            "min_width": null,
            "object_fit": null,
            "object_position": null,
            "order": null,
            "overflow": null,
            "overflow_x": null,
            "overflow_y": null,
            "padding": null,
            "right": null,
            "top": null,
            "visibility": null,
            "width": null
          }
        },
        "b1bdfb3d549042d9ae9e6308f69c7e1a": {
          "model_module": "@jupyter-widgets/controls",
          "model_name": "DescriptionStyleModel",
          "model_module_version": "1.5.0",
          "state": {
            "_model_module": "@jupyter-widgets/controls",
            "_model_module_version": "1.5.0",
            "_model_name": "DescriptionStyleModel",
            "_view_count": null,
            "_view_module": "@jupyter-widgets/base",
            "_view_module_version": "1.2.0",
            "_view_name": "StyleView",
            "description_width": ""
          }
        }
      }
    }
  },
  "nbformat": 4,
  "nbformat_minor": 5
}